{
 "cells": [
  {
   "attachments": {},
   "cell_type": "markdown",
   "metadata": {},
   "source": []
  },
  {
   "cell_type": "code",
   "execution_count": null,
   "metadata": {},
   "outputs": [],
   "source": [
    "# 1. Apos receber mensagem dela, postei uma mensagem de bom dia\n",
    "\n",
    "{\n",
    "    \"instance_key\": \"megaapi-MOK9F6yvV9n0EvGIVsuvB7pPBA\",\n",
    "    \"jid\": \"5511994954119:27@s.whatsapp.net\",\n",
    "    \"messageType\": \"conversation\",\n",
    "    \"key\": {\n",
    "        \"remoteJid\": \"5516993301744@s.whatsapp.net\",\n",
    "        \"fromMe\": true,\n",
    "        \"id\": \"3A7A3E08EF3B5054226E\"\n",
    "    },\n",
    "    \"messageTimestamp\": 1678891604,\n",
    "    \"pushName\": \"Daniel\",\n",
    "    \"broadcast\": false,\n",
    "    \"status\": 2,\n",
    "    \"message\": {\n",
    "        \"conversation\": \"Bom dia prima\"\n",
    "    }\n",
    "}"
   ]
  },
  {
   "cell_type": "code",
   "execution_count": null,
   "metadata": {},
   "outputs": [],
   "source": []
  },
  {
   "cell_type": "code",
   "execution_count": null,
   "metadata": {},
   "outputs": [],
   "source": [
    "from urllib import response\n",
    "from flask import Flask, request, jsonify\n",
    "import tratamento\n",
    "import json\n",
    "\n",
    "\n",
    "app = Flask(__name__)\n",
    "\n",
    "@app.route('/whats', methods=['POST'])\n",
    "def main():\n",
    "    data = request.get_json(silent=True)   \n",
    "    response_json = json.loads(data)\n",
    "    \n",
    "    if data['key']['fromMe'] == True:\n",
    "          tratamento.detectarMensagem(data)\n",
    "\n",
    "    print(\"\\n\\n-------------------------------------\\n\\n\")\n",
    "    print(data)\n",
    "    print(response_json)\n",
    "\n",
    "    return jsonify({})\n",
    "\n",
    "\n",
    "# run Flask app\n",
    "if __name__ == \"__main__\":\n",
    "    app.debug = True\n",
    "    app.run()"
   ]
  }
 ],
 "metadata": {
  "kernelspec": {
   "display_name": "openai",
   "language": "python",
   "name": "python3"
  },
  "language_info": {
   "name": "python",
   "version": "3.11.0"
  },
  "orig_nbformat": 4
 },
 "nbformat": 4,
 "nbformat_minor": 2
}
